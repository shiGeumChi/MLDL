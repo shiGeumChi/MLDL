{
 "cells": [
  {
   "cell_type": "code",
   "execution_count": 2,
   "id": "374d3283",
   "metadata": {},
   "outputs": [
    {
     "name": "stdout",
     "output_type": "stream",
     "text": [
      "LOADING PACKAGE\n"
     ]
    }
   ],
   "source": [
    "#import numpy\n",
    "import numpy as np\n",
    "print (\"LOADING PACKAGE\")"
   ]
  },
  {
   "cell_type": "code",
   "execution_count": 3,
   "id": "467d59d6",
   "metadata": {},
   "outputs": [
    {
     "data": {
      "text/plain": [
       "<module 'numpy' from 'C:\\\\Users\\\\shiGeumChi\\\\anaconda3\\\\lib\\\\site-packages\\\\numpy\\\\__init__.py'>"
      ]
     },
     "execution_count": 3,
     "metadata": {},
     "output_type": "execute_result"
    }
   ],
   "source": [
    "np"
   ]
  },
  {
   "cell_type": "code",
   "execution_count": 6,
   "id": "5de0de33",
   "metadata": {},
   "outputs": [
    {
     "name": "stdout",
     "output_type": "stream",
     "text": [
      "3\n",
      "123.456\n",
      "hello\n"
     ]
    }
   ],
   "source": [
    "#integer\n",
    "x = 3\n",
    "print(x)\n",
    "#float\n",
    "x = 123.456\n",
    "print(x)\n",
    "#string\n",
    "x=\"hello\"\n",
    "print(x)"
   ]
  },
  {
   "cell_type": "code",
   "execution_count": 10,
   "id": "25dde4f2",
   "metadata": {},
   "outputs": [
    {
     "name": "stdout",
     "output_type": "stream",
     "text": [
      "[ANN]\n",
      "[MLP]\n",
      "[CNN]\n",
      "[RNN]\n",
      "[DAE]\n"
     ]
    }
   ],
   "source": [
    "#for\n",
    "dlmethod = [\"ANN\",\"MLP\",\"CNN\",\"RNN\",\"DAE\"]\n",
    "for alg in dlmethod:\n",
    "    print(\"[%s]\" %alg)"
   ]
  },
  {
   "cell_type": "code",
   "execution_count": 21,
   "id": "5d9d32aa",
   "metadata": {},
   "outputs": [
    {
     "name": "stdout",
     "output_type": "stream",
     "text": [
      "[1/5][ANN]\n",
      "[2/5][MLP]\n",
      "[3/5][CNN]\n",
      "[4/5][RNN]\n",
      "[5/5][DAE]\n"
     ]
    }
   ],
   "source": [
    "#for with number\n",
    "dlmethod = [\"ANN\",\"MLP\",\"CNN\",\"RNN\",\"DAE\"]\n",
    "for i,alg in enumerate(dlmethod):\n",
    "    print(\"[%d/%d][%s]\" %(i+1,len(dlmethod),alg))"
   ]
  },
  {
   "cell_type": "code",
   "execution_count": 26,
   "id": "af9f0232",
   "metadata": {},
   "outputs": [
    {
     "name": "stdout",
     "output_type": "stream",
     "text": [
      "This is ANN network\n",
      "This is MLP. Hi!\n",
      "What is this CNN\n",
      "What is this RNN\n",
      "What is this DAE\n"
     ]
    }
   ],
   "source": [
    "#if,else\n",
    "dlmethod = [\"ANN\",\"MLP\",\"CNN\",\"RNN\",\"DAE\"]\n",
    "for alg in dlmethod:\n",
    "    if alg in [\"ANN\"]:\n",
    "        print(\"This is %s network\" %alg)\n",
    "    elif alg in [\"MLP\"]:\n",
    "        print(\"This is %s. Hi!\" %alg)\n",
    "    else:\n",
    "        print(\"What is this %s\" %alg)"
   ]
  },
  {
   "cell_type": "code",
   "execution_count": 27,
   "id": "51dcd887",
   "metadata": {},
   "outputs": [
    {
     "name": "stdout",
     "output_type": "stream",
     "text": [
      "FUNCTION DEFINED!\n"
     ]
    }
   ],
   "source": [
    "#function\n",
    "def sum(a,b):\n",
    "    return a+b\n",
    "print (\"FUNCTION DEFINED!\")"
   ]
  },
  {
   "cell_type": "code",
   "execution_count": 30,
   "id": "b336c25d",
   "metadata": {},
   "outputs": [
    {
     "name": "stdout",
     "output_type": "stream",
     "text": [
      "ab\n"
     ]
    }
   ],
   "source": [
    "a = 'a'\n",
    "b = 'b'\n",
    "c = sum(a,b)\n",
    "print(c)\n"
   ]
  },
  {
   "cell_type": "code",
   "execution_count": 31,
   "id": "c38c0b98",
   "metadata": {},
   "outputs": [
    {
     "name": "stdout",
     "output_type": "stream",
     "text": [
      "['a', 'b', 'c']\n"
     ]
    }
   ],
   "source": [
    "#list\n",
    "a = []\n",
    "a = ['a','b','c']\n",
    "\n",
    "b = []\n",
    "for id in range(len(a)):\n",
    "    b.append(a[id])\n",
    "print(b)"
   ]
  },
  {
   "cell_type": "code",
   "execution_count": 32,
   "id": "8be04aef",
   "metadata": {},
   "outputs": [
    {
     "name": "stdout",
     "output_type": "stream",
     "text": [
      "{'name': 'jay', 'job': 'engineer'}\n"
     ]
    }
   ],
   "source": [
    "#dictionary\n",
    "a = dict()\n",
    "a['name'] = 'jay'\n",
    "a['job'] = 'engineer'\n",
    "print(a)"
   ]
  },
  {
   "cell_type": "code",
   "execution_count": 33,
   "id": "a5a64ed7",
   "metadata": {},
   "outputs": [
    {
     "name": "stdout",
     "output_type": "stream",
     "text": [
      "{'name': 'jay', 'job': 'engineer'}\n"
     ]
    }
   ],
   "source": [
    "b = {'name':'jay', 'job':'engineer'}\n",
    "print(b)"
   ]
  },
  {
   "cell_type": "code",
   "execution_count": 35,
   "id": "6c1c921f",
   "metadata": {},
   "outputs": [
    {
     "name": "stdout",
     "output_type": "stream",
     "text": [
      "{'name': 'jay', 'job': 'engineer', 'age': 20}\n"
     ]
    }
   ],
   "source": [
    "b['age'] = 20\n",
    "print(b)"
   ]
  },
  {
   "cell_type": "code",
   "execution_count": 36,
   "id": "ab13467b",
   "metadata": {},
   "outputs": [
    {
     "name": "stdout",
     "output_type": "stream",
     "text": [
      "CLASS DEFINED.\n"
     ]
    }
   ],
   "source": [
    "#class\n",
    "class foo:\n",
    "    #constructor\n",
    "    def __init__(self,name):\n",
    "        self.name = name\n",
    "        self.job = 'unknown'\n",
    "        print(\"HELLO, [%s]\" %(self.name))\n",
    "    def boo(self, loud=False):\n",
    "        if loud:\n",
    "            print('BOO [%s]' % (self.name.upper()))\n",
    "        else:\n",
    "            print('BOO [%s]' % (self.name))\n",
    "print(\"CLASS DEFINED.\")\n",
    "        "
   ]
  },
  {
   "cell_type": "code",
   "execution_count": 37,
   "id": "ce9a168a",
   "metadata": {},
   "outputs": [
    {
     "name": "stdout",
     "output_type": "stream",
     "text": [
      "HELLO, [jay]\n"
     ]
    }
   ],
   "source": [
    "f = foo('jay')"
   ]
  },
  {
   "cell_type": "code",
   "execution_count": 38,
   "id": "2d3f6d91",
   "metadata": {},
   "outputs": [
    {
     "data": {
      "text/plain": [
       "'unknown'"
      ]
     },
     "execution_count": 38,
     "metadata": {},
     "output_type": "execute_result"
    }
   ],
   "source": [
    "f.job"
   ]
  },
  {
   "cell_type": "code",
   "execution_count": 41,
   "id": "b2f3591a",
   "metadata": {},
   "outputs": [
    {
     "name": "stdout",
     "output_type": "stream",
     "text": [
      "BOO [jay]\n"
     ]
    }
   ],
   "source": [
    "f.boo()"
   ]
  },
  {
   "cell_type": "code",
   "execution_count": 43,
   "id": "9c9bdecb",
   "metadata": {},
   "outputs": [
    {
     "name": "stdout",
     "output_type": "stream",
     "text": [
      "BOO [JAY]\n",
      "BOO [JAY]\n"
     ]
    }
   ],
   "source": [
    "f.boo(True)\n",
    "f.boo(loud=True)"
   ]
  },
  {
   "cell_type": "code",
   "execution_count": 93,
   "id": "a17a929c",
   "metadata": {},
   "outputs": [],
   "source": [
    "#numpy\n",
    "def print_np(x):\n",
    "    print(\"(1) Type is %s\" %(type(x)))\n",
    "    print(\"(2) Shape is %s\" %(x.shape,))\n",
    "    print(\"(3) Values are : \\n%s\" %(x))\n",
    "    print()\n"
   ]
  },
  {
   "cell_type": "code",
   "execution_count": 61,
   "id": "ecdcdc60",
   "metadata": {},
   "outputs": [
    {
     "name": "stdout",
     "output_type": "stream",
     "text": [
      "(1) Type is <class 'numpy.ndarray'>\n",
      "(2) Shape is (3,)\n",
      "(3) Values are : \n",
      "[1 2 3]\n"
     ]
    }
   ],
   "source": [
    "#rank1\n",
    "x = np.array([1,2,3])\n",
    "print_np(x)"
   ]
  },
  {
   "cell_type": "code",
   "execution_count": 62,
   "id": "dfbcd3cc",
   "metadata": {},
   "outputs": [
    {
     "name": "stdout",
     "output_type": "stream",
     "text": [
      "(1) Type is <class 'numpy.ndarray'>\n",
      "(2) Shape is (2, 3)\n",
      "(3) Values are : \n",
      "[[1 2 3]\n",
      " [4 5 6]]\n"
     ]
    }
   ],
   "source": [
    "#rank2\n",
    "x = np.array([[1,2,3],[4,5,6]])\n",
    "print_np(x)"
   ]
  },
  {
   "cell_type": "code",
   "execution_count": 63,
   "id": "01295f79",
   "metadata": {},
   "outputs": [
    {
     "name": "stdout",
     "output_type": "stream",
     "text": [
      "(1) Type is <class 'numpy.ndarray'>\n",
      "(2) Shape is (3, 2)\n",
      "(3) Values are : \n",
      "[[0. 0.]\n",
      " [0. 0.]\n",
      " [0. 0.]]\n"
     ]
    }
   ],
   "source": [
    "#zeros\n",
    "a = np.zeros((3,2))\n",
    "print_np(a)"
   ]
  },
  {
   "cell_type": "code",
   "execution_count": 64,
   "id": "56d814fa",
   "metadata": {},
   "outputs": [
    {
     "name": "stdout",
     "output_type": "stream",
     "text": [
      "(1) Type is <class 'numpy.ndarray'>\n",
      "(2) Shape is (3, 2)\n",
      "(3) Values are : \n",
      "[[1. 1.]\n",
      " [1. 1.]\n",
      " [1. 1.]]\n"
     ]
    }
   ],
   "source": [
    "#ones\n",
    "a = np.ones((3,2))\n",
    "print_np(a)"
   ]
  },
  {
   "cell_type": "code",
   "execution_count": 66,
   "id": "6a5cea5e",
   "metadata": {},
   "outputs": [
    {
     "name": "stdout",
     "output_type": "stream",
     "text": [
      "(1) Type is <class 'numpy.ndarray'>\n",
      "(2) Shape is (3, 3)\n",
      "(3) Values are : \n",
      "[[1. 0. 0.]\n",
      " [0. 1. 0.]\n",
      " [0. 0. 1.]]\n"
     ]
    }
   ],
   "source": [
    "#identity\n",
    "c = np.eye(3,3)\n",
    "print_np(c)"
   ]
  },
  {
   "cell_type": "code",
   "execution_count": 81,
   "id": "9a4641d8",
   "metadata": {},
   "outputs": [
    {
     "name": "stdout",
     "output_type": "stream",
     "text": [
      "(1) Type is <class 'numpy.ndarray'>\n",
      "(2) Shape is (2, 2)\n",
      "(3) Values are : \n",
      "[[0.7230225  0.41879366]\n",
      " [0.63636729 0.10676509]]\n"
     ]
    }
   ],
   "source": [
    "#random uniform (0~1)\n",
    "d = np.random.random((2,2))\n",
    "print_np(d)"
   ]
  },
  {
   "cell_type": "code",
   "execution_count": 82,
   "id": "6cc6d742",
   "metadata": {},
   "outputs": [
    {
     "name": "stdout",
     "output_type": "stream",
     "text": [
      "(1) Type is <class 'numpy.ndarray'>\n",
      "(2) Shape is (1, 5)\n",
      "(3) Values are : \n",
      "[[-0.05514517  0.41151492 -1.12979067 -0.71443743 -0.78643707]]\n"
     ]
    }
   ],
   "source": [
    "#random gaussian ()\n",
    "e = np.random.randn(1,5)\n",
    "print_np(e)"
   ]
  },
  {
   "cell_type": "code",
   "execution_count": 84,
   "id": "cc481afb",
   "metadata": {},
   "outputs": [
    {
     "name": "stdout",
     "output_type": "stream",
     "text": [
      "(1) Type is <class 'numpy.ndarray'>\n",
      "(2) Shape is (3, 4)\n",
      "(3) Values are : \n",
      "[[ 1  2  3  4]\n",
      " [ 5  6  7  8]\n",
      " [ 9 10 11 12]]\n"
     ]
    }
   ],
   "source": [
    "a = np.array([[1,2,3,4],[5,6,7,8],[9,10,11,12]])\n",
    "print_np(a)"
   ]
  },
  {
   "cell_type": "code",
   "execution_count": 87,
   "id": "e6af7d3f",
   "metadata": {},
   "outputs": [
    {
     "name": "stdout",
     "output_type": "stream",
     "text": [
      "(1) Type is <class 'numpy.ndarray'>\n",
      "(2) Shape is (2, 2)\n",
      "(3) Values are : \n",
      "[[2 3]\n",
      " [6 7]]\n"
     ]
    }
   ],
   "source": [
    "#array indexing\n",
    "b = a[:2,1:3]\n",
    "print_np(b)"
   ]
  },
  {
   "cell_type": "code",
   "execution_count": 89,
   "id": "f76dba9d",
   "metadata": {},
   "outputs": [],
   "source": [
    "#row\n",
    "row_r1 = a[1,:]   #rank1\n",
    "row_r2 = a[1:2,:] #rank2\n",
    "row_r3 = a[[1],:] #rank2"
   ]
  },
  {
   "cell_type": "code",
   "execution_count": 90,
   "id": "de753ae9",
   "metadata": {},
   "outputs": [
    {
     "name": "stdout",
     "output_type": "stream",
     "text": [
      "(1) Type is <class 'numpy.ndarray'>\n",
      "(2) Shape is (4,)\n",
      "(3) Values are : \n",
      "[5 6 7 8]\n",
      "(1) Type is <class 'numpy.ndarray'>\n",
      "(2) Shape is (1, 4)\n",
      "(3) Values are : \n",
      "[[5 6 7 8]]\n",
      "(1) Type is <class 'numpy.ndarray'>\n",
      "(2) Shape is (1, 4)\n",
      "(3) Values are : \n",
      "[[5 6 7 8]]\n"
     ]
    }
   ],
   "source": [
    "print_np(row_r1)\n",
    "print_np(row_r2)\n",
    "print_np(row_r3)"
   ]
  },
  {
   "cell_type": "code",
   "execution_count": 94,
   "id": "bc732fd9",
   "metadata": {},
   "outputs": [
    {
     "name": "stdout",
     "output_type": "stream",
     "text": [
      "(1) Type is <class 'numpy.ndarray'>\n",
      "(2) Shape is (2,)\n",
      "(3) Values are : \n",
      "[1 2]\n",
      "\n",
      "(1) Type is <class 'numpy.ndarray'>\n",
      "(2) Shape is (2,)\n",
      "(3) Values are : \n",
      "[1. 2.]\n",
      "\n",
      "(1) Type is <class 'numpy.ndarray'>\n",
      "(2) Shape is (2,)\n",
      "(3) Values are : \n",
      "[1. 2.]\n",
      "\n"
     ]
    }
   ],
   "source": [
    "#different type\n",
    "x = np.array([1,2])\n",
    "y = np.array([1.0,2.0])\n",
    "z = np.array([1,2],dtype=np.float16)\n",
    "print_np(x)\n",
    "print_np(y)\n",
    "print_np(z)"
   ]
  },
  {
   "cell_type": "code",
   "execution_count": 104,
   "id": "479d7eb0",
   "metadata": {},
   "outputs": [
    {
     "name": "stdout",
     "output_type": "stream",
     "text": [
      "(1) Type is <class 'numpy.ndarray'>\n",
      "(2) Shape is (2, 2)\n",
      "(3) Values are : \n",
      "[[1. 2.]\n",
      " [3. 4.]]\n",
      "\n",
      "(1) Type is <class 'numpy.ndarray'>\n",
      "(2) Shape is (2, 2)\n",
      "(3) Values are : \n",
      "[[5. 6.]\n",
      " [7. 8.]]\n",
      "\n"
     ]
    }
   ],
   "source": [
    "#array math\n",
    "x = np.array([[1,2],[3,4]],dtype=np.float64)\n",
    "y = np.array([[5,6],[7,8]],dtype=np.float64)\n",
    "v = np.array([9,10])\n",
    "w = np.array([11,12]) \n",
    "print_np(x)\n",
    "print_np(y)"
   ]
  },
  {
   "cell_type": "code",
   "execution_count": 99,
   "id": "edfe73cc",
   "metadata": {},
   "outputs": [
    {
     "name": "stdout",
     "output_type": "stream",
     "text": [
      "[[ 6.  8.]\n",
      " [10. 12.]]\n",
      "[[ 6.  8.]\n",
      " [10. 12.]]\n"
     ]
    }
   ],
   "source": [
    "#add\n",
    "print (x + y)\n",
    "print (np.add(x,y))"
   ]
  },
  {
   "cell_type": "code",
   "execution_count": 100,
   "id": "830ffd39",
   "metadata": {},
   "outputs": [
    {
     "name": "stdout",
     "output_type": "stream",
     "text": [
      "[[-4. -4.]\n",
      " [-4. -4.]]\n",
      "[[-4. -4.]\n",
      " [-4. -4.]]\n"
     ]
    }
   ],
   "source": [
    "#subtract\n",
    "print (x - y)\n",
    "print (np.subtract(x,y))"
   ]
  },
  {
   "cell_type": "code",
   "execution_count": 101,
   "id": "04d31ee2",
   "metadata": {},
   "outputs": [
    {
     "name": "stdout",
     "output_type": "stream",
     "text": [
      "[[ 5. 12.]\n",
      " [21. 32.]]\n",
      "[[ 5. 12.]\n",
      " [21. 32.]]\n"
     ]
    }
   ],
   "source": [
    "#product\n",
    "print (x * y)\n",
    "print (np.multiply(x,y))"
   ]
  },
  {
   "cell_type": "code",
   "execution_count": 102,
   "id": "8be618c7",
   "metadata": {},
   "outputs": [
    {
     "name": "stdout",
     "output_type": "stream",
     "text": [
      "[[0.2        0.33333333]\n",
      " [0.42857143 0.5       ]]\n",
      "[[0.2        0.33333333]\n",
      " [0.42857143 0.5       ]]\n"
     ]
    }
   ],
   "source": [
    "#division\n",
    "print (x / y)\n",
    "print (np.divide(x,y))"
   ]
  },
  {
   "cell_type": "code",
   "execution_count": 105,
   "id": "422586b3",
   "metadata": {},
   "outputs": [
    {
     "name": "stdout",
     "output_type": "stream",
     "text": [
      "[39. 58.]\n",
      "[[19. 22.]\n",
      " [43. 50.]]\n"
     ]
    }
   ],
   "source": [
    "#matrix operations\n",
    "#dot product\n",
    "print (v.dot(x))\n",
    "print (np.dot(x,y))"
   ]
  },
  {
   "cell_type": "code",
   "execution_count": 106,
   "id": "67cabd51",
   "metadata": {},
   "outputs": [
    {
     "name": "stdout",
     "output_type": "stream",
     "text": [
      "(1) Type is <class 'numpy.ndarray'>\n",
      "(2) Shape is (2, 2)\n",
      "(3) Values are : \n",
      "[[1. 2.]\n",
      " [3. 4.]]\n",
      "\n",
      "(1) Type is <class 'numpy.ndarray'>\n",
      "(2) Shape is (2, 2)\n",
      "(3) Values are : \n",
      "[[19. 22.]\n",
      " [43. 50.]]\n",
      "\n"
     ]
    }
   ],
   "source": [
    "y = np.empty_like(x)\n",
    "print_np(x)\n",
    "print_np(y)"
   ]
  },
  {
   "cell_type": "code",
   "execution_count": 112,
   "id": "02f37b86",
   "metadata": {},
   "outputs": [],
   "source": [
    "#call by reference\n",
    "x = np.array([[1,2],[3,4]])\n",
    "y = np.array([[3,4],[5,6]])"
   ]
  },
  {
   "cell_type": "code",
   "execution_count": 113,
   "id": "b3f0f376",
   "metadata": {},
   "outputs": [
    {
     "name": "stdout",
     "output_type": "stream",
     "text": [
      "[[1 2]\n",
      " [3 4]]\n",
      "[[100   2]\n",
      " [  3   4]]\n"
     ]
    }
   ],
   "source": [
    "print(x)\n",
    "z = x\n",
    "z[0,0] = 100\n",
    "print(x)"
   ]
  },
  {
   "cell_type": "code",
   "execution_count": 114,
   "id": "08cf1853",
   "metadata": {},
   "outputs": [
    {
     "name": "stdout",
     "output_type": "stream",
     "text": [
      "[[100   2]\n",
      " [  3   4]]\n",
      "[[100   2]\n",
      " [  3   4]]\n"
     ]
    }
   ],
   "source": [
    "print(x)\n",
    "z = np.copy(x)\n",
    "z[0,0] = 100\n",
    "print(x)"
   ]
  },
  {
   "cell_type": "code",
   "execution_count": 115,
   "id": "ced581ac",
   "metadata": {},
   "outputs": [
    {
     "name": "stdout",
     "output_type": "stream",
     "text": [
      "(1) Type is <class 'numpy.ndarray'>\n",
      "(2) Shape is (5,)\n",
      "(3) Values are : \n",
      "[0 1 2 3 4]\n",
      "\n"
     ]
    }
   ],
   "source": [
    "#tile\n",
    "v = np.array([0,1,2,3,4])\n",
    "print_np(v)"
   ]
  },
  {
   "cell_type": "code",
   "execution_count": 117,
   "id": "f7e1d8e8",
   "metadata": {},
   "outputs": [
    {
     "name": "stdout",
     "output_type": "stream",
     "text": [
      "(1) Type is <class 'numpy.ndarray'>\n",
      "(2) Shape is (1, 15)\n",
      "(3) Values are : \n",
      "[[0 1 2 3 4 0 1 2 3 4 0 1 2 3 4]]\n",
      "\n"
     ]
    }
   ],
   "source": [
    "w = np.tile(v,(1,3))\n",
    "print_np(w)"
   ]
  },
  {
   "cell_type": "code",
   "execution_count": 118,
   "id": "a4b9e699",
   "metadata": {},
   "outputs": [
    {
     "name": "stdout",
     "output_type": "stream",
     "text": [
      "(1) Type is <class 'numpy.ndarray'>\n",
      "(2) Shape is (3, 5)\n",
      "(3) Values are : \n",
      "[[0 1 2 3 4]\n",
      " [0 1 2 3 4]\n",
      " [0 1 2 3 4]]\n",
      "\n"
     ]
    }
   ],
   "source": [
    "w = np.tile(v,(3,1))\n",
    "print_np(w)"
   ]
  },
  {
   "cell_type": "code",
   "execution_count": 120,
   "id": "b26e75c0",
   "metadata": {},
   "outputs": [
    {
     "name": "stdout",
     "output_type": "stream",
     "text": [
      "PLOT READY\n"
     ]
    }
   ],
   "source": [
    "#matplotlib\n",
    "import matplotlib.pyplot as plt\n",
    "%matplotlib inline #jupyter magic command\n",
    "print(\"PLOT READY\")"
   ]
  },
  {
   "cell_type": "code",
   "execution_count": 122,
   "id": "059a1c35",
   "metadata": {},
   "outputs": [
    {
     "ename": "NameError",
     "evalue": "name 'plot' is not defined",
     "output_type": "error",
     "traceback": [
      "\u001b[1;31m---------------------------------------------------------------------------\u001b[0m",
      "\u001b[1;31mNameError\u001b[0m                                 Traceback (most recent call last)",
      "\u001b[1;32m<ipython-input-122-12ffab50ccb1>\u001b[0m in \u001b[0;36m<module>\u001b[1;34m\u001b[0m\n\u001b[0;32m      3\u001b[0m \u001b[1;33m\u001b[0m\u001b[0m\n\u001b[0;32m      4\u001b[0m \u001b[0mplt\u001b[0m\u001b[1;33m.\u001b[0m\u001b[0mplot\u001b[0m\u001b[1;33m(\u001b[0m\u001b[0mx\u001b[0m\u001b[1;33m,\u001b[0m\u001b[0my\u001b[0m\u001b[1;33m)\u001b[0m\u001b[1;33m\u001b[0m\u001b[1;33m\u001b[0m\u001b[0m\n\u001b[1;32m----> 5\u001b[1;33m \u001b[0mplot\u001b[0m\u001b[1;33m.\u001b[0m\u001b[0mshow\u001b[0m\u001b[1;33m(\u001b[0m\u001b[1;33m)\u001b[0m\u001b[1;33m\u001b[0m\u001b[1;33m\u001b[0m\u001b[0m\n\u001b[0m",
      "\u001b[1;31mNameError\u001b[0m: name 'plot' is not defined"
     ]
    },
    {
     "data": {
      "image/png": "[encoded data removed]",
      "text/plain": [
       "<Figure size 432x288 with 1 Axes>"
      ]
     },
     "metadata": {
      "needs_background": "light"
     },
     "output_type": "display_data"
    }
   ],
   "source": [
    "x= np.arange(0,3*np.pi,0.1)\n",
    "y= np.sin(x)\n",
    "\n",
    "plt.plot(x,y)\n",
    "plot.show()"
   ]
  },
  {
   "cell_type": "code",
   "execution_count": 123,
   "id": "3e3c5a29",
   "metadata": {},
   "outputs": [
    {
     "data": {
      "text/plain": [
       "<matplotlib.legend.Legend at 0x234106b2040>"
      ]
     },
     "execution_count": 123,
     "metadata": {},
     "output_type": "execute_result"
    },
    {
     "data": {
      "image/png": "[encoded data removed]",
      "text/plain": [
       "<Figure size 432x288 with 1 Axes>"
      ]
     },
     "metadata": {
      "needs_background": "light"
     },
     "output_type": "display_data"
    }
   ],
   "source": [
    "y_sin = np.sin(x)\n",
    "y_cos = np.cos(x)\n",
    "\n",
    "plt.plot(x,y_sin)\n",
    "plt.plot(x,y_cos)\n",
    "plt.xlabel('x axis label')\n",
    "plt.ylabel('y axis label')\n",
    "plt.title('sine and Cosine')\n",
    "plt.legend(['sine','cosine'])"
   ]
  },
  {
   "cell_type": "code",
   "execution_count": null,
   "id": "47b99ec5",
   "metadata": {},
   "outputs": [],
   "source": []
  }
 ],
 "metadata": {
  "kernelspec": {
   "display_name": "Python 3",
   "language": "python",
   "name": "python3"
  },
  "language_info": {
   "codemirror_mode": {
    "name": "ipython",
    "version": 3
   },
   "file_extension": ".py",
   "mimetype": "text/x-python",
   "name": "python",
   "nbconvert_exporter": "python",
   "pygments_lexer": "ipython3",
   "version": "3.8.8"
  }
 },
 "nbformat": 4,
 "nbformat_minor": 5
}
